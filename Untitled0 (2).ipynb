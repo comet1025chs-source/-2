{
  "nbformat": 4,
  "nbformat_minor": 0,
  "metadata": {
    "colab": {
      "provenance": []
    },
    "kernelspec": {
      "name": "python3",
      "display_name": "Python 3"
    },
    "language_info": {
      "name": "python"
    }
  },
  "cells": [
    {
      "cell_type": "code",
      "execution_count": 3,
      "metadata": {
        "colab": {
          "base_uri": "https://localhost:8080/"
        },
        "id": "TT1MHpWXObYD",
        "outputId": "f7201b78-6991-4a61-c010-eacb9ba0d5aa"
      },
      "outputs": [
        {
          "output_type": "stream",
          "name": "stdout",
          "text": [
            "a= [2, 3, 4, 5]\n",
            "rev_a= [6]\n",
            "a= [2, 3, 4]\n",
            "rev_a= [6, 5]\n",
            "a= [2, 3]\n",
            "rev_a= [6, 5, 4]\n",
            "a= [2]\n",
            "rev_a= [6, 5, 4, 3]\n",
            "a= []\n",
            "rev_a= [6, 5, 4, 3, 2]\n"
          ]
        }
      ],
      "source": [
        "a = [2,3,4,5,6]\n",
        "rev_a = []\n",
        "\n",
        "for_in range(len(a)):\n",
        "  rev_a.append(a.pop())\n",
        "\n",
        "  print(\"a=\",a)\n",
        "  print(\"rev_a=\"rev_a)"
      ]
    },
    {
      "cell_type": "code",
      "source": [
        "a=[2,3,4,5,6]\n",
        "rev_a = []\n",
        "\n",
        "for _ in range (len(a)):\n",
        "    rev_a.append(a.pop())\n",
        "\n",
        "print(\"a=\", a)\n",
        "print(\"rev_a=\", rev_a)"
      ],
      "metadata": {
        "colab": {
          "base_uri": "https://localhost:8080/"
        },
        "id": "kEx6lWlBPCvX",
        "outputId": "8fbee35c-8b49-43bb-b16f-c43e0977b59f"
      },
      "execution_count": 22,
      "outputs": [
        {
          "output_type": "stream",
          "name": "stdout",
          "text": [
            "a= []\n",
            "rev_a= [6, 5, 4, 3, 2]\n"
          ]
        }
      ]
    }
  ]
}