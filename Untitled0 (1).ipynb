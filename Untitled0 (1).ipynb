{
  "nbformat": 4,
  "nbformat_minor": 0,
  "metadata": {
    "colab": {
      "provenance": []
    },
    "kernelspec": {
      "name": "python3",
      "display_name": "Python 3"
    },
    "language_info": {
      "name": "python"
    }
  },
  "cells": [
    {
      "cell_type": "code",
      "execution_count": null,
      "metadata": {
        "colab": {
          "base_uri": "https://localhost:8080/"
        },
        "id": "guevQhhXwKQc",
        "outputId": "f1554ae9-146e-4680-b182-1d77029b4e40"
      },
      "outputs": [
        {
          "output_type": "stream",
          "name": "stdout",
          "text": [
            "안녕 나는 20살 최혜성이야\n"
          ]
        }
      ],
      "source": [
        "print(\"안녕 나는 20살 최혜성이야\")"
      ]
    },
    {
      "cell_type": "code",
      "source": [],
      "metadata": {
        "id": "7biMiQtVAsAU"
      },
      "execution_count": null,
      "outputs": []
    }
  ]
}